{
 "cells": [
  {
   "cell_type": "markdown",
   "metadata": {},
   "source": [
    "# Forest Cover Type Prediction\n",
    "#### Team: Clear-Cut Solution: Kevin Martin, Yang Jing, Justine Schabel"
   ]
  },
  {
   "cell_type": "markdown",
   "metadata": {},
   "source": [
    "**Todo** write a (better) intro    ;-]\n",
    "\n",
    "This noteboook documents the development of a predictive model to determine the type of forest cover within national forests in the state of Colorado given various geographic location characteristics. \n",
    "\n",
    "We quickly determined that the most difficult cover types to distinguish betweeen are type 1 and 2. We focused particular attention on developing a model that could pick the 2 of them apart."
   ]
  },
  {
   "cell_type": "markdown",
   "metadata": {},
   "source": [
    "## Initial Setup\n",
    "#### Import Required Libraries"
   ]
  },
  {
   "cell_type": "code",
   "execution_count": 31,
   "metadata": {},
   "outputs": [],
   "source": [
    "# Surpress warning messages\n",
    "import warnings\n",
    "warnings.filterwarnings(\"ignore\")\n",
    "\n",
    "# This tells matplotlib not to try opening a new window for each plot.\n",
    "%matplotlib inline\n",
    "\n",
    "# Libraries for reading, cleaning and plotting the dataa\n",
    "import pandas as pd \n",
    "import matplotlib.pyplot as plt\n",
    "plt.style.use('seaborn')\n",
    "import seaborn as sns\n",
    "import numpy as np\n",
    "\n",
    "# Feature Engineering was written by the team \n",
    "import feature_engineering as fe\n",
    "\n",
    "# Models was written by the team \n",
    "import models \n",
    "\n",
    "from sklearn.metrics import mean_squared_error\n",
    "from sklearn.metrics import accuracy_score\n",
    "from sklearn.neural_network import MLPClassifier\n",
    "from sklearn.metrics import plot_confusion_matrix\n",
    "\n",
    "# So we can reload packages without restarting the kernel\n",
    "import importlib"
   ]
  },
  {
   "cell_type": "code",
   "execution_count": 7,
   "metadata": {},
   "outputs": [
    {
     "data": {
      "text/plain": [
       "<module 'feature_engineering' from '/home/jupyter/mids-w207-final-project/feature_engineering.py'>"
      ]
     },
     "execution_count": 7,
     "metadata": {},
     "output_type": "execute_result"
    }
   ],
   "source": [
    "# If you update the feature_engineering package, run this line so it updates without needing to restart the kernel\n",
    "importlib.reload(fe)"
   ]
  },
  {
   "cell_type": "markdown",
   "metadata": {},
   "source": [
    "#### Load Data"
   ]
  },
  {
   "cell_type": "code",
   "execution_count": 8,
   "metadata": {},
   "outputs": [],
   "source": [
    "# Read in training data \n",
    "train_df = pd.read_csv(\"data/train.csv\")"
   ]
  },
  {
   "cell_type": "markdown",
   "metadata": {},
   "source": [
    "## Feature Engineering \n",
    "\n",
    "Overall Data Pipeline\n",
    "<img src=\"data/data_pipeline.png\">\n",
    "\n",
    "\n",
    "The following transformations were made in the function below. \n",
    "\n",
    "#### Transform Hillshade\n",
    "Now we'll normalize the \"Hillsdale\" variables by dividing them by 255. The hillshade variables contain index of shades with a value between 0 and 255. \n",
    "\n",
    "#### Create new soil types\n",
    "Now we'll create additional features to magnify the differences betweeen cover type1 and 2, and covery type3 and 6.\n",
    "\n",
    "#### Combine soil types \n",
    "\n",
    "#### Drop rare or non-existant soil types \n",
    "Now we'll drop soil types that don't exist in the training set. Then we will combine soil types 35, 38, 39 and 40 because they have a very similar distribution. \n",
    "\n",
    "#### Create new features based on soil type descriptions \n",
    "TODO: Explain how we split up soil descriptions into different features to account for overlap.\n",
    "\n",
    "#### Transform Aspect\n",
    "TODO: Explain aspect problem and solution\n",
    "\n",
    "#### Log transformations\n",
    "Per EDA, we noticed the distribution of the \"distance\" related variables are skewed. Now we'll log transform the features related to the distances to make the distribution smoother, and thus decrease the variances of the predictions.\n",
    "\n",
    "#### Add polynomial features\n",
    "Per EDA, Elevation is a numerical variable and there is a clearer distinciton in Elevation among the dependenet variable, cover type. To imporve the signal, we sqaured Elevation. \n",
    "\n",
    "#### Drop irrelevant or problematic features\n",
    "- We'll drop \"Id\" because it does not provide any meaning in the classifications.\n",
    "- We'll drop \"Hillshade_9am\" because it has a high correlation with \"Aspect\" and \"Hillshade_3pm\".\n",
    "- We'll also drop \"Vertical_Distance_To_Hydrology\" because it does not show much distinction among the \"Cover Types\" and has a very skewed distribution, with negative values in some cases. The variable offers little insight and there might be data issues in this variable. \n"
   ]
  },
  {
   "cell_type": "code",
   "execution_count": 9,
   "metadata": {},
   "outputs": [
    {
     "data": {
      "text/html": [
       "<div>\n",
       "<style scoped>\n",
       "    .dataframe tbody tr th:only-of-type {\n",
       "        vertical-align: middle;\n",
       "    }\n",
       "\n",
       "    .dataframe tbody tr th {\n",
       "        vertical-align: top;\n",
       "    }\n",
       "\n",
       "    .dataframe thead th {\n",
       "        text-align: right;\n",
       "    }\n",
       "</style>\n",
       "<table border=\"1\" class=\"dataframe\">\n",
       "  <thead>\n",
       "    <tr style=\"text-align: right;\">\n",
       "      <th></th>\n",
       "      <th>Elevation</th>\n",
       "      <th>Slope</th>\n",
       "      <th>Horizontal_Distance_To_Hydrology</th>\n",
       "      <th>Horizontal_Distance_To_Roadways</th>\n",
       "      <th>Hillshade_Noon</th>\n",
       "      <th>Hillshade_3pm</th>\n",
       "      <th>Horizontal_Distance_To_Fire_Points</th>\n",
       "      <th>Wilderness_Area1</th>\n",
       "      <th>Wilderness_Area2</th>\n",
       "      <th>Wilderness_Area3</th>\n",
       "      <th>...</th>\n",
       "      <th>Soil_Type35</th>\n",
       "      <th>Soil_Type36</th>\n",
       "      <th>Soil_Type37</th>\n",
       "      <th>Soil_Type38</th>\n",
       "      <th>Soil_Type39</th>\n",
       "      <th>Soil_Type40</th>\n",
       "      <th>Cover_Type</th>\n",
       "      <th>ap_ew</th>\n",
       "      <th>ap_ns</th>\n",
       "      <th>Elevation_squared</th>\n",
       "    </tr>\n",
       "  </thead>\n",
       "  <tbody>\n",
       "    <tr>\n",
       "      <th>0</th>\n",
       "      <td>2596</td>\n",
       "      <td>3</td>\n",
       "      <td>5.556828</td>\n",
       "      <td>6.236370</td>\n",
       "      <td>0.909804</td>\n",
       "      <td>0.580392</td>\n",
       "      <td>8.745125</td>\n",
       "      <td>1</td>\n",
       "      <td>0</td>\n",
       "      <td>0</td>\n",
       "      <td>...</td>\n",
       "      <td>0</td>\n",
       "      <td>0</td>\n",
       "      <td>0</td>\n",
       "      <td>0</td>\n",
       "      <td>0</td>\n",
       "      <td>0</td>\n",
       "      <td>5</td>\n",
       "      <td>0.777146</td>\n",
       "      <td>0.629320</td>\n",
       "      <td>6739216</td>\n",
       "    </tr>\n",
       "    <tr>\n",
       "      <th>1</th>\n",
       "      <td>2590</td>\n",
       "      <td>2</td>\n",
       "      <td>5.361292</td>\n",
       "      <td>5.968708</td>\n",
       "      <td>0.921569</td>\n",
       "      <td>0.592157</td>\n",
       "      <td>8.736489</td>\n",
       "      <td>1</td>\n",
       "      <td>0</td>\n",
       "      <td>0</td>\n",
       "      <td>...</td>\n",
       "      <td>0</td>\n",
       "      <td>0</td>\n",
       "      <td>0</td>\n",
       "      <td>0</td>\n",
       "      <td>0</td>\n",
       "      <td>0</td>\n",
       "      <td>5</td>\n",
       "      <td>0.829038</td>\n",
       "      <td>0.559193</td>\n",
       "      <td>6708100</td>\n",
       "    </tr>\n",
       "    <tr>\n",
       "      <th>2</th>\n",
       "      <td>2804</td>\n",
       "      <td>9</td>\n",
       "      <td>5.594711</td>\n",
       "      <td>8.064951</td>\n",
       "      <td>0.933333</td>\n",
       "      <td>0.529412</td>\n",
       "      <td>8.719644</td>\n",
       "      <td>1</td>\n",
       "      <td>0</td>\n",
       "      <td>0</td>\n",
       "      <td>...</td>\n",
       "      <td>0</td>\n",
       "      <td>0</td>\n",
       "      <td>0</td>\n",
       "      <td>0</td>\n",
       "      <td>0</td>\n",
       "      <td>0</td>\n",
       "      <td>2</td>\n",
       "      <td>0.656059</td>\n",
       "      <td>-0.754710</td>\n",
       "      <td>7862416</td>\n",
       "    </tr>\n",
       "    <tr>\n",
       "      <th>3</th>\n",
       "      <td>2785</td>\n",
       "      <td>18</td>\n",
       "      <td>5.493061</td>\n",
       "      <td>8.036250</td>\n",
       "      <td>0.933333</td>\n",
       "      <td>0.478431</td>\n",
       "      <td>8.734238</td>\n",
       "      <td>1</td>\n",
       "      <td>0</td>\n",
       "      <td>0</td>\n",
       "      <td>...</td>\n",
       "      <td>0</td>\n",
       "      <td>0</td>\n",
       "      <td>0</td>\n",
       "      <td>0</td>\n",
       "      <td>0</td>\n",
       "      <td>0</td>\n",
       "      <td>2</td>\n",
       "      <td>0.422618</td>\n",
       "      <td>-0.906308</td>\n",
       "      <td>7756225</td>\n",
       "    </tr>\n",
       "    <tr>\n",
       "      <th>4</th>\n",
       "      <td>2595</td>\n",
       "      <td>2</td>\n",
       "      <td>5.036953</td>\n",
       "      <td>5.971262</td>\n",
       "      <td>0.917647</td>\n",
       "      <td>0.588235</td>\n",
       "      <td>8.727940</td>\n",
       "      <td>1</td>\n",
       "      <td>0</td>\n",
       "      <td>0</td>\n",
       "      <td>...</td>\n",
       "      <td>0</td>\n",
       "      <td>0</td>\n",
       "      <td>0</td>\n",
       "      <td>0</td>\n",
       "      <td>0</td>\n",
       "      <td>0</td>\n",
       "      <td>5</td>\n",
       "      <td>0.707107</td>\n",
       "      <td>0.707107</td>\n",
       "      <td>6734025</td>\n",
       "    </tr>\n",
       "  </tbody>\n",
       "</table>\n",
       "<p>5 rows × 55 columns</p>\n",
       "</div>"
      ],
      "text/plain": [
       "   Elevation  Slope  Horizontal_Distance_To_Hydrology  \\\n",
       "0       2596      3                          5.556828   \n",
       "1       2590      2                          5.361292   \n",
       "2       2804      9                          5.594711   \n",
       "3       2785     18                          5.493061   \n",
       "4       2595      2                          5.036953   \n",
       "\n",
       "   Horizontal_Distance_To_Roadways  Hillshade_Noon  Hillshade_3pm  \\\n",
       "0                         6.236370        0.909804       0.580392   \n",
       "1                         5.968708        0.921569       0.592157   \n",
       "2                         8.064951        0.933333       0.529412   \n",
       "3                         8.036250        0.933333       0.478431   \n",
       "4                         5.971262        0.917647       0.588235   \n",
       "\n",
       "   Horizontal_Distance_To_Fire_Points  Wilderness_Area1  Wilderness_Area2  \\\n",
       "0                            8.745125                 1                 0   \n",
       "1                            8.736489                 1                 0   \n",
       "2                            8.719644                 1                 0   \n",
       "3                            8.734238                 1                 0   \n",
       "4                            8.727940                 1                 0   \n",
       "\n",
       "   Wilderness_Area3  ...  Soil_Type35  Soil_Type36  Soil_Type37  Soil_Type38  \\\n",
       "0                 0  ...            0            0            0            0   \n",
       "1                 0  ...            0            0            0            0   \n",
       "2                 0  ...            0            0            0            0   \n",
       "3                 0  ...            0            0            0            0   \n",
       "4                 0  ...            0            0            0            0   \n",
       "\n",
       "   Soil_Type39  Soil_Type40  Cover_Type     ap_ew     ap_ns  Elevation_squared  \n",
       "0            0            0           5  0.777146  0.629320            6739216  \n",
       "1            0            0           5  0.829038  0.559193            6708100  \n",
       "2            0            0           2  0.656059 -0.754710            7862416  \n",
       "3            0            0           2  0.422618 -0.906308            7756225  \n",
       "4            0            0           5  0.707107  0.707107            6734025  \n",
       "\n",
       "[5 rows x 55 columns]"
      ]
     },
     "execution_count": 9,
     "metadata": {},
     "output_type": "execute_result"
    }
   ],
   "source": [
    "# Apply (data independent) feature engineering to entire dataset \n",
    "train_df  = fe.manipulate_data(train_df)\n",
    "\n",
    "# Examine transformed data\n",
    "train_df.head()"
   ]
  },
  {
   "cell_type": "markdown",
   "metadata": {},
   "source": [
    "Now that the data is transformed, we can also visualize the new aspect features. "
   ]
  },
  {
   "cell_type": "code",
   "execution_count": 10,
   "metadata": {},
   "outputs": [
    {
     "data": {
      "image/png": "[encoded data removed]",
      "text/plain": [
       "<Figure size 864x288 with 2 Axes>"
      ]
     },
     "metadata": {},
     "output_type": "display_data"
    }
   ],
   "source": [
    "# Visualize cover type VS the cosine of Aspect degerees\n",
    "fig,(ax1,ax2) = plt.subplots(1,2,figsize=(12,4))\n",
    "sns.violinplot(x=train_df['Cover_Type'],y=train_df['ap_ew'],ax=ax1)\n",
    "sns.histplot(train_df['ap_ew'],ax=ax2)\n",
    "plt.show()"
   ]
  },
  {
   "cell_type": "markdown",
   "metadata": {},
   "source": [
    "After the feature transformation, we see improved distinction in median values, espeically for cover type 6, where the median is notably higher than that of other cover types and the distribution is concentrated around the median."
   ]
  },
  {
   "cell_type": "markdown",
   "metadata": {},
   "source": [
    "#### Segment data\n",
    "\n",
    "Based on closer examination of our model performance, we found that the models consistently confused cover types 1 and 2 and covertypes 3 and 6. So we decided to break up our model into one primary model (outputs 12 (for 1 or 2), 36 (for outputs 3 or 6), 4, 5 or 7) and two secondary models (one for distinguishing 1 or 2 and the other for distinguishing 3 or 6). "
   ]
  },
  {
   "cell_type": "code",
   "execution_count": 11,
   "metadata": {},
   "outputs": [],
   "source": [
    "# Split trainning data into subsets to improve model accurracy with cover type 1&2, and 3&6.\n",
    "train_df_original, train_df_12_36_4_5_7, train_df_12, train_df_36 = fe.subset_data(train_df)"
   ]
  },
  {
   "cell_type": "markdown",
   "metadata": {},
   "source": [
    "#### Split data into train/dev\n",
    "\n",
    "Then, we split the training data into a training data set (80%) and development data set (20%). We will also have a large, separate test data set. "
   ]
  },
  {
   "cell_type": "code",
   "execution_count": 12,
   "metadata": {},
   "outputs": [],
   "source": [
    "# Only (randomly) sample indicies once for the entire dataset \n",
    "# This will be very important for comparing the output to the original dev labels \n",
    "train_indicies_all_data = list(train_df_original.sample(frac=0.8).index)\n",
    "\n",
    "# Split each dataset into 80% train and 20% dev by randomly sampling indicies \n",
    "train_data_original, train_labels_original, dev_data_original, dev_labels_original = fe.split_data(train_df_original,train_indicies_all_data)\n",
    "train_data_12_36_4_5_7, train_labels_12_36_4_5_7, dev_data_12_36_4_5_7, dev_labels_12_36_4_5_7 = fe.split_data(train_df_12_36_4_5_7,train_indicies_all_data)\n",
    "train_data_cover_type_12, train_labels_cover_type_12, dev_data_cover_type_12, dev_labels_cover_type_12  = fe.split_data(train_df_12,list(train_df_12.sample(frac=0.8).index))\n",
    "train_data_cover_type_36, train_labels_cover_type_36, dev_data_cover_type_36, dev_labels_cover_type_36  = fe.split_data(train_df_36,list(train_df_36.sample(frac=0.8).index))"
   ]
  },
  {
   "cell_type": "markdown",
   "metadata": {},
   "source": [
    "#### Scale the data to have a mean of 0 and a variance of 1."
   ]
  },
  {
   "cell_type": "code",
   "execution_count": 13,
   "metadata": {},
   "outputs": [],
   "source": [
    "standardize_features = ['Elevation','Slope', 'Horizontal_Distance_To_Hydrology',\n",
    "       'Horizontal_Distance_To_Roadways',\n",
    "       'Horizontal_Distance_To_Fire_Points','Elevation_squared']\n",
    "\n",
    "# Retrieve scaler *once* for the original training data so we don't overfit the smaller datasets \n",
    "train_data_original, train_data_original_scaler = fe.scale_training_data(standardize_features, train_data_original, scaler_type=\"standard\")\n",
    "dev_data_original = fe.scale_non_training_data(standardize_features, dev_data_original, train_data_original_scaler)\n",
    "\n",
    "train_data_12_36_4_5_7 = fe.scale_non_training_data(standardize_features, train_data_12_36_4_5_7, train_data_original_scaler)\n",
    "dev_data_12_36_4_5_7 = fe.scale_non_training_data(standardize_features, dev_data_12_36_4_5_7, train_data_original_scaler)\n",
    "\n",
    "train_data_cover_type_12 = fe.scale_non_training_data(standardize_features, train_data_cover_type_12, train_data_original_scaler)\n",
    "dev_data_cover_type_12 = fe.scale_non_training_data(standardize_features, dev_data_cover_type_12, train_data_original_scaler)\n",
    "\n",
    "train_data_cover_type_36 = fe.scale_non_training_data(standardize_features, train_data_cover_type_36, train_data_original_scaler)\n",
    "dev_data_cover_type_36 = fe.scale_non_training_data(standardize_features, dev_data_cover_type_36, train_data_original_scaler)"
   ]
  },
  {
   "cell_type": "markdown",
   "metadata": {},
   "source": [
    "#### Explore and confirm the shape of the data"
   ]
  },
  {
   "cell_type": "code",
   "execution_count": 14,
   "metadata": {},
   "outputs": [
    {
     "name": "stdout",
     "output_type": "stream",
     "text": [
      "Original Data with Labels 1,2,3,4,5,6,7\n",
      "Training data shape: (12096, 54) Training labels shape: (12096,)\n",
      "Dev data shape: (3024, 54) Dev labels shape: (3024,)\n",
      "\n",
      "Data with Labels 12,36,4,5,7\n",
      "Training data shape: (12096, 54) Training labels shape: (12096,)\n",
      "Dev data shape: (3024, 54) Dev labels shape: (3024,)\n",
      "\n",
      "Data with Labels 1,2\n",
      "Training data shape: (3456, 54) Training labels shape: (3456,)\n",
      "Dev data shape: (864, 54) Dev labels shape: (864,)\n",
      "\n",
      "Data with Labels 1,3\n",
      "Training data shape: (3456, 54) Training labels shape: (3456,)\n",
      "Dev data shape: (864, 54) Dev labels shape: (864,)\n",
      "\n"
     ]
    }
   ],
   "source": [
    "print(\"Original Data with Labels 1,2,3,4,5,6,7\")\n",
    "print(\"Training data shape: {0} Training labels shape: {1}\".format(train_data_original.shape, train_labels_original.shape))\n",
    "print(\"Dev data shape: {0} Dev labels shape: {1}\\n\".format(dev_data_original.shape, dev_labels_original.shape))\n",
    "\n",
    "print(\"Data with Labels 12,36,4,5,7\")\n",
    "print(\"Training data shape: {0} Training labels shape: {1}\".format(train_data_12_36_4_5_7.shape, train_labels_12_36_4_5_7.shape))\n",
    "print(\"Dev data shape: {0} Dev labels shape: {1}\\n\".format(dev_data_12_36_4_5_7.shape, dev_labels_12_36_4_5_7.shape))\n",
    "\n",
    "print(\"Data with Labels 1,2\")\n",
    "print(\"Training data shape: {0} Training labels shape: {1}\".format(train_data_cover_type_12.shape, train_labels_cover_type_12.shape))\n",
    "print(\"Dev data shape: {0} Dev labels shape: {1}\\n\".format(dev_data_cover_type_12.shape, dev_labels_cover_type_12.shape))\n",
    "\n",
    "print(\"Data with Labels 1,3\")\n",
    "print(\"Training data shape: {0} Training labels shape: {1}\".format(train_data_cover_type_36.shape, train_labels_cover_type_36.shape))\n",
    "print(\"Dev data shape: {0} Dev labels shape: {1}\\n\".format(dev_data_cover_type_36.shape, dev_labels_cover_type_36.shape))"
   ]
  },
  {
   "cell_type": "markdown",
   "metadata": {},
   "source": [
    "## Models\n",
    "\n",
    "Fit Random Forest, K Nearest Neighbors and Multilayer Perceptron models to the training data\n",
    "<img src=\"data/training_models.png\">"
   ]
  },
  {
   "cell_type": "markdown",
   "metadata": {},
   "source": [
    "#### Random Forest"
   ]
  },
  {
   "cell_type": "code",
   "execution_count": 15,
   "metadata": {},
   "outputs": [
    {
     "data": {
      "text/plain": [
       "RandomForestClassifier(max_depth=8)"
      ]
     },
     "execution_count": 15,
     "metadata": {},
     "output_type": "execute_result"
    }
   ],
   "source": [
    "from sklearn.ensemble import RandomForestClassifier\n",
    "\n",
    "# Set model parameters\n",
    "num_trees = 100\n",
    "max_depth = 8\n",
    "\n",
    "# Fit a Random Forest Model to all of the training data\n",
    "forest_model_all_data = RandomForestClassifier(num_trees, max_depth=max_depth)\n",
    "forest_model_all_data.fit(train_data_12_36_4_5_7, train_labels_12_36_4_5_7)\n",
    "\n",
    "# # Fit a Random Forest Model to differentiate cover types one and two\n",
    "forest_model_cover_type_12 = RandomForestClassifier(num_trees, max_depth=max_depth)\n",
    "forest_model_cover_type_12.fit(train_data_cover_type_12, train_labels_cover_type_12)\n",
    "\n",
    "# # Fit a Random Forest Model to differentiate cover types three and six\n",
    "forest_model_cover_type_36 = RandomForestClassifier(num_trees, max_depth=max_depth)\n",
    "forest_model_cover_type_36.fit(train_data_cover_type_36, train_labels_cover_type_36)"
   ]
  },
  {
   "cell_type": "markdown",
   "metadata": {},
   "source": [
    "#### K-Nearest Neighbors"
   ]
  },
  {
   "cell_type": "code",
   "execution_count": 16,
   "metadata": {},
   "outputs": [
    {
     "data": {
      "text/plain": [
       "KNeighborsClassifier(n_neighbors=1)"
      ]
     },
     "execution_count": 16,
     "metadata": {},
     "output_type": "execute_result"
    }
   ],
   "source": [
    "from sklearn.neighbors import KNeighborsClassifier\n",
    "\n",
    "# Set model parameters\n",
    "num_neighbors = 1\n",
    "\n",
    "# Fit a KNN Model to all of the training data\n",
    "knn_model_all_data = KNeighborsClassifier(num_neighbors)\n",
    "knn_model_all_data.fit(train_data_12_36_4_5_7, train_labels_12_36_4_5_7)\n",
    "\n",
    "# Fit a KNN Model to differentiate cover types one and two\n",
    "knn_model_cover_type_12 = KNeighborsClassifier(num_neighbors)\n",
    "knn_model_cover_type_12.fit(train_data_cover_type_12, train_labels_cover_type_12)\n",
    "\n",
    "# Fit a KNN Model to differentiate cover types three and six\n",
    "knn_model_cover_type_36 = KNeighborsClassifier(num_neighbors)\n",
    "knn_model_cover_type_36.fit(train_data_cover_type_36, train_labels_cover_type_36)"
   ]
  },
  {
   "cell_type": "markdown",
   "metadata": {},
   "source": [
    "#### Multi-Layer Perceptron"
   ]
  },
  {
   "cell_type": "code",
   "execution_count": 17,
   "metadata": {},
   "outputs": [
    {
     "data": {
      "text/plain": [
       "MLPClassifier(alpha=0.001, hidden_layer_sizes=(200,), random_state=0)"
      ]
     },
     "execution_count": 17,
     "metadata": {},
     "output_type": "execute_result"
    }
   ],
   "source": [
    "from sklearn.neural_network import MLPClassifier\n",
    "\n",
    "# Set model parameters\n",
    "alpha = 1e-3\n",
    "hidden_layer_sizes = (200,)\n",
    "random_state = 0\n",
    "max_iter = 200\n",
    "\n",
    "# Fit a KNN Model to all of the training data\n",
    "mlp_model_all_data = MLPClassifier(alpha=alpha,hidden_layer_sizes=hidden_layer_sizes,random_state=random_state,max_iter=max_iter)\n",
    "mlp_model_all_data.fit(train_data_12_36_4_5_7, train_labels_12_36_4_5_7)\n",
    "\n",
    "# # Fit a KNN Model to differentiate cover types one and two\n",
    "mlp_model_cover_type_12 = MLPClassifier(alpha=alpha,hidden_layer_sizes=hidden_layer_sizes,random_state=random_state,max_iter=max_iter)\n",
    "mlp_model_cover_type_12.fit(train_data_cover_type_12, train_labels_cover_type_12)\n",
    "\n",
    "# # Fit a KNN Model to differentiate cover types three and six\n",
    "mlp_model_cover_type_36 = MLPClassifier(alpha=alpha,hidden_layer_sizes=hidden_layer_sizes,random_state=random_state,max_iter=max_iter)\n",
    "mlp_model_cover_type_36.fit(train_data_cover_type_36, train_labels_cover_type_36)"
   ]
  },
  {
   "cell_type": "markdown",
   "metadata": {},
   "source": [
    "#### Neural Network (will replace MLP if it performs better)\n",
    "##### TODO: Work In Progress"
   ]
  },
  {
   "cell_type": "code",
   "execution_count": 37,
   "metadata": {},
   "outputs": [],
   "source": [
    "# import tensorflow as tf \n",
    "\n",
    "# # Create a model for labels 12,36,4,5,7\n",
    "# nn_model_all = tf.keras.models.Sequential([\n",
    "#     tf.keras.layers.Flatten(input_shape=(54,)),\n",
    "#     tf.keras.layers.Dense(128, activation='relu'),\n",
    "#     tf.keras.layers.Dropout(0.2),\n",
    "#     tf.keras.layers.Dense(10)\n",
    "# ])\n",
    "\n",
    "# nn_model_all.fit(train_data_12_36_4_5_7.to_numpy(), train_labels_12_36_4_5_7.to_numpy(), epochs=5)\n",
    "\n",
    "# # Create a model for labels 1,2\n",
    "# nn_model_12 = tf.keras.models.Sequential([\n",
    "#     tf.keras.layers.Flatten(input_shape=(54,)),\n",
    "#     tf.keras.layers.Dense(128, activation='relu'),\n",
    "#     tf.keras.layers.Dropout(0.2),\n",
    "#     tf.keras.layers.Dense(10)\n",
    "# ])\n",
    "\n",
    "# nn_model_12.fit(train_data_cover_type_12.to_numpy(), train_labels_cover_type_12.to_numpy(), epochs=5)\n",
    "\n",
    "# # Create a model for labels 3,6\n",
    "# nn_model_36 = tf.keras.models.Sequential([\n",
    "#     tf.keras.layers.Flatten(input_shape=(54,)),\n",
    "#     tf.keras.layers.Dense(128, activation='relu'),\n",
    "#     tf.keras.layers.Dropout(0.2),\n",
    "#     tf.keras.layers.Dense(10)\n",
    "# ])\n",
    "\n",
    "# nn_model_36.fit(train_data_cover_type_36.to_numpy(), train_labels_cover_type_36.to_numpy(), epochs=5)"
   ]
  },
  {
   "cell_type": "markdown",
   "metadata": {},
   "source": [
    "## Evaluation\n",
    "\n",
    "Predictions from each model are producted accordingly (for both dev and test)\n",
    "<img src=\"data/predictions.png\">\n",
    "\n",
    "#### Evaluate Random Forest Model "
   ]
  },
  {
   "cell_type": "code",
   "execution_count": 18,
   "metadata": {},
   "outputs": [
    {
     "name": "stdout",
     "output_type": "stream",
     "text": [
      "Random Forest Perforamance (against 12/36 dev labels) - Model 1:  0.8792989417989417\n",
      "Random Forest Perforamance Against Real Dev Labels - Overall Score:  0.7913359788359788\n"
     ]
    }
   ],
   "source": [
    "forest_predictions_all_data = forest_model_all_data.predict(dev_data_12_36_4_5_7)\n",
    "print(\"Random Forest Perforamance (against 12/36 dev labels) - Model 1: \", accuracy_score(np.array(dev_labels_12_36_4_5_7), forest_predictions_all_data))\n",
    "\n",
    "# Retrieve examples where the model predicted 12 or 36\n",
    "forest_predicted_12_indicies = np.where(forest_predictions_all_data==12)\n",
    "forest_predicted_36_indicies = np.where(forest_predictions_all_data==36)\n",
    "\n",
    "# Use specific sub-models to differentiate between 1 and 2 -and- 3 and 6\n",
    "forest_predictions_1_2 = forest_model_cover_type_12.predict(np.array(dev_data_12_36_4_5_7)[forest_predicted_12_indicies])\n",
    "forest_predictions_3_6 = forest_model_cover_type_36.predict(np.array(dev_data_12_36_4_5_7)[forest_predicted_36_indicies])\n",
    "\n",
    "# Update those 12 or 36 labels to be 1,2,3,6\n",
    "forest_predictions_all_data[forest_predicted_12_indicies] = forest_predictions_1_2\n",
    "forest_predictions_all_data[forest_predicted_36_indicies] = forest_predictions_3_6\n",
    "\n",
    "print(\"Random Forest Perforamance Against Real Dev Labels - Overall Score: \",  accuracy_score(np.array(dev_labels_original).reshape(-1, 1), forest_predictions_all_data.reshape(-1, 1)))"
   ]
  },
  {
   "cell_type": "markdown",
   "metadata": {},
   "source": [
    "#### Evaluate KNN Model"
   ]
  },
  {
   "cell_type": "code",
   "execution_count": 19,
   "metadata": {},
   "outputs": [
    {
     "name": "stdout",
     "output_type": "stream",
     "text": [
      "KNN Perforamance (against 12/36 dev labels) - Model 1:  0.9166666666666666\n",
      "KNN Perforamance Against Real Dev Labels - Overall Score:  0.9001322751322751\n"
     ]
    }
   ],
   "source": [
    "knn_predictions_all_data = knn_model_all_data.predict(dev_data_12_36_4_5_7)\n",
    "print(\"KNN Perforamance (against 12/36 dev labels) - Model 1: \", accuracy_score(np.array(dev_labels_12_36_4_5_7), knn_predictions_all_data))\n",
    "\n",
    "# Retrieve examples where the model predicted 12 or 36\n",
    "knn_predicted_12_indicies = np.where(knn_predictions_all_data==12)\n",
    "knn_predicted_36_indicies = np.where(knn_predictions_all_data==36)\n",
    "\n",
    "# Use specific sub-models to differentiate between 1 and 2 -and- 3 and 6\n",
    "knn_predictions_1_2 = knn_model_cover_type_12.predict(np.array(dev_data_12_36_4_5_7)[knn_predicted_12_indicies])\n",
    "knn_predictions_3_6 = knn_model_cover_type_36.predict(np.array(dev_data_12_36_4_5_7)[knn_predicted_36_indicies])\n",
    "\n",
    "# Update those 12 or 36 labels to be 1,2,3,6\n",
    "knn_predictions_all_data[knn_predicted_12_indicies] = knn_predictions_1_2\n",
    "knn_predictions_all_data[knn_predicted_36_indicies] = knn_predictions_3_6\n",
    "\n",
    "print(\"KNN Perforamance Against Real Dev Labels - Overall Score: \",  accuracy_score(np.array(dev_labels_original).reshape(-1, 1), knn_predictions_all_data.reshape(-1, 1)))"
   ]
  },
  {
   "cell_type": "markdown",
   "metadata": {},
   "source": [
    "#### Evaluate MLP Model"
   ]
  },
  {
   "cell_type": "code",
   "execution_count": 20,
   "metadata": {},
   "outputs": [
    {
     "name": "stdout",
     "output_type": "stream",
     "text": [
      "MLP Perforamance (against 12/36 dev labels)- Model 1:  0.939484126984127\n",
      "MLP Perforamance Against Real Dev Labels - Overall Score:  0.9232804232804233\n"
     ]
    }
   ],
   "source": [
    "mlp_predictions_all_data = mlp_model_all_data.predict(dev_data_12_36_4_5_7)\n",
    "print(\"MLP Perforamance (against 12/36 dev labels)- Model 1: \", accuracy_score(np.array(dev_labels_12_36_4_5_7), mlp_predictions_all_data))\n",
    "\n",
    "# Retrieve examples where the model predicted 12 or 36\n",
    "mlp_predicted_12_indicies = np.where(mlp_predictions_all_data==12)\n",
    "mlp_predicted_36_indicies = np.where(mlp_predictions_all_data==36)\n",
    "\n",
    "# Use specific sub-models to differentiate between 1 and 2 -and- 3 and 6\n",
    "mlp_predictions_1_2 = knn_model_cover_type_12.predict(np.array(dev_data_12_36_4_5_7)[mlp_predicted_12_indicies])\n",
    "mlp_predictions_3_6 = knn_model_cover_type_36.predict(np.array(dev_data_12_36_4_5_7)[mlp_predicted_36_indicies])\n",
    "\n",
    "# Update those 12 or 36 labels to be 1,2,3,6\n",
    "mlp_predictions_all_data[mlp_predicted_12_indicies] = mlp_predictions_1_2\n",
    "mlp_predictions_all_data[mlp_predicted_36_indicies] = mlp_predictions_3_6\n",
    "\n",
    "print(\"MLP Perforamance Against Real Dev Labels - Overall Score: \",  accuracy_score(np.array(dev_labels_original).reshape(-1, 1), mlp_predictions_all_data.reshape(-1, 1)))"
   ]
  },
  {
   "cell_type": "markdown",
   "metadata": {},
   "source": [
    "#### Evaluate Neural Network (will replace MLP if it performs better)\n",
    "##### TODO: Work In Progress"
   ]
  },
  {
   "cell_type": "code",
   "execution_count": 38,
   "metadata": {},
   "outputs": [],
   "source": [
    "# # Retrieve predictions for dev_data with labels 12,36,4,5,7\n",
    "# nn_predictions_all_data = nn_model_all(dev_data_12_36_4_5_7.to_numpy())\n",
    "\n",
    "# # Retrieve examples where the model predicted 12 or 36\n",
    "# nn_predictioned_12_indicies = np.where(nn_predictions_all_data==12)\n",
    "# nn_predictioned_36_indicies = np.where(nn_predictions_all_data==36)\n",
    "\n",
    "# # Use specific sub-models to differentiate between 1 and 2 -and- 3 and 6\n",
    "# nn_predictions_1_2 = nn_model_12(np.array(dev_data_12_36_4_5_7)[nn_predictioned_12_indicies].to_numpy())\n",
    "# nn_predictions_3_6 = nn_model_36(np.array(dev_data_12_36_4_5_7)[nn_predictioned_36_indicies].to_numpy())\n",
    "\n",
    "# # Update those 12 or 36 labels to be 1,2,3,6\n",
    "# nn_predictions_all_data[nn_predictioned_12_indicies] = nn_predictions_1_2\n",
    "# nn_predictions_all_data[nn_predictioned_36_indicies] = nn_predictions_3_6\n",
    "\n",
    "# # Convert logits to probabilities for 12,36,4,5,7\n",
    "# tf.nn.softmax(predictions).numpy()\n",
    "# loss_fn = tf.keras.losses.SparseCategoricalCrossentropy(from_logits=True)\n",
    "# model.compile(optimizer='adam',\n",
    "#               loss=loss_fn,\n",
    "#               metrics=['accuracy'])\n",
    "\n",
    "# # Retrieve predictions\n",
    "# predictions = model(train_data_12_36_4_5_7.to_numpy())\n",
    "\n",
    "\n",
    "\n",
    "# model.evaluate(dev_data_12_36_4_5_7.to_numpy(), dev_labels.to_numpy(), verbose=2)"
   ]
  },
  {
   "cell_type": "markdown",
   "metadata": {},
   "source": [
    "#### Ensemble\n",
    "Here we will combine the three best performing models and implement a \"voting\" system to try to improve accuracy.\n",
    "<img src=\"data/ensemble.png\">"
   ]
  },
  {
   "cell_type": "code",
   "execution_count": 21,
   "metadata": {},
   "outputs": [
    {
     "name": "stdout",
     "output_type": "stream",
     "text": [
      "Models disagreed on 718/3024 examples.\n",
      "Ensemble Accuracy:  0.9222883597883598\n"
     ]
    }
   ],
   "source": [
    "new_predictions = models.ensemble(forest_predictions_all_data, knn_predictions_all_data, mlp_predictions_all_data)\n",
    "accuracy = accuracy_score(dev_labels_original, new_predictions)\n",
    "print(\"Ensemble Accuracy: \", accuracy)"
   ]
  },
  {
   "cell_type": "markdown",
   "metadata": {},
   "source": [
    "### Test Results"
   ]
  },
  {
   "cell_type": "code",
   "execution_count": 22,
   "metadata": {},
   "outputs": [],
   "source": [
    "# Read in testing data \n",
    "test_data = pd.read_csv(\"data/test.csv\")\n",
    "\n",
    "# Preserve testing df ID for submission purpose\n",
    "test_df_id = test_data[\"Id\"]"
   ]
  },
  {
   "cell_type": "code",
   "execution_count": 23,
   "metadata": {},
   "outputs": [],
   "source": [
    "# Apply Same Transformations \n",
    "test_data = fe.manipulate_data(test_data)\n",
    "test_data = fe.scale_non_training_data(standardize_features, test_data, train_data_original_scaler)"
   ]
  },
  {
   "cell_type": "code",
   "execution_count": 24,
   "metadata": {},
   "outputs": [
    {
     "name": "stdout",
     "output_type": "stream",
     "text": [
      "Testing data shape:  (565892, 54)\n"
     ]
    }
   ],
   "source": [
    "# Verify shape\n",
    "print(\"Testing data shape: \", test_data.shape)"
   ]
  },
  {
   "cell_type": "markdown",
   "metadata": {},
   "source": [
    "#### Test Random Forest"
   ]
  },
  {
   "cell_type": "code",
   "execution_count": 25,
   "metadata": {},
   "outputs": [],
   "source": [
    "test_forest_predictions = forest_model_all_data.predict(test_data)\n",
    "\n",
    "# Retrieve examples where the model predicted 12 or 36\n",
    "test_forest_predicted_12_indicies = np.where(test_forest_predictions==12)\n",
    "test_forest_predicted_36_indicies = np.where(test_forest_predictions==36)\n",
    "\n",
    "# Use specific sub-models to differentiate between 1 and 2 -and- 3 and 6\n",
    "test_forest_predictions_1_2 = forest_model_cover_type_12.predict(np.array(test_data)[test_forest_predicted_12_indicies])\n",
    "test_forest_predictions_3_6 = forest_model_cover_type_36.predict(np.array(test_data)[test_forest_predicted_36_indicies])\n",
    "\n",
    "# Update those 12 or 36 labels to be 1,2,3,6\n",
    "test_forest_predictions[test_forest_predicted_12_indicies] = test_forest_predictions_1_2\n",
    "test_forest_predictions[test_forest_predicted_36_indicies] = test_forest_predictions_3_6"
   ]
  },
  {
   "cell_type": "markdown",
   "metadata": {},
   "source": [
    "#### Test KNN"
   ]
  },
  {
   "cell_type": "code",
   "execution_count": 26,
   "metadata": {},
   "outputs": [],
   "source": [
    "test_knn_predictions = knn_model_all_data.predict(test_data)\n",
    "\n",
    "# Retrieve examples where the model predicted 12 or 36\n",
    "test_knn_predicted_12_indicies = np.where(test_knn_predictions==12)\n",
    "test_knn_predicted_36_indicies = np.where(test_knn_predictions==36)\n",
    "\n",
    "# Use specific sub-models to differentiate between 1 and 2 -and- 3 and 6\n",
    "test_knn_predictions_1_2 = knn_model_cover_type_12.predict(np.array(test_data)[test_knn_predicted_12_indicies])\n",
    "test_knn_predictions_3_6 = knn_model_cover_type_36.predict(np.array(test_data)[test_knn_predicted_36_indicies])\n",
    "\n",
    "# Update those 12 or 36 labels to be 1,2,3,6\n",
    "test_knn_predictions[test_knn_predicted_12_indicies] = test_knn_predictions_1_2\n",
    "test_knn_predictions[test_knn_predicted_36_indicies] = test_knn_predictions_3_6"
   ]
  },
  {
   "cell_type": "markdown",
   "metadata": {},
   "source": [
    "#### Test MLP"
   ]
  },
  {
   "cell_type": "code",
   "execution_count": 27,
   "metadata": {},
   "outputs": [],
   "source": [
    "test_mlp_predictions = mlp_model_all_data.predict(test_data)\n",
    "\n",
    "# Retrieve examples where the model predicted 12 or 36\n",
    "test_mlp_predicted_12_indicies = np.where(test_mlp_predictions==12)\n",
    "test_mlp_predicted_36_indicies = np.where(test_mlp_predictions==36)\n",
    "\n",
    "# Use specific sub-models to differentiate between 1 and 2 -and- 3 and 6\n",
    "test_mlp_predictions_1_2 = mlp_model_cover_type_12.predict(np.array(test_data)[test_mlp_predicted_12_indicies])\n",
    "test_mlp_predictions_3_6 = mlp_model_cover_type_36.predict(np.array(test_data)[test_mlp_predicted_36_indicies])\n",
    "\n",
    "# Update those 12 or 36 labels to be 1,2,3,6\n",
    "test_mlp_predictions[test_mlp_predicted_12_indicies] = test_mlp_predictions_1_2\n",
    "test_mlp_predictions[test_mlp_predicted_36_indicies] = test_mlp_predictions_3_6"
   ]
  },
  {
   "cell_type": "markdown",
   "metadata": {},
   "source": [
    "#### Test NN (will replace MLP if it performs better)\n",
    "##### TODO: Work In Progress"
   ]
  },
  {
   "cell_type": "code",
   "execution_count": 36,
   "metadata": {},
   "outputs": [],
   "source": [
    "# TODO once evaluate is done (do the same thing on the test data)"
   ]
  },
  {
   "cell_type": "markdown",
   "metadata": {},
   "source": [
    "#### Test Ensemble"
   ]
  },
  {
   "cell_type": "code",
   "execution_count": 28,
   "metadata": {},
   "outputs": [
    {
     "name": "stdout",
     "output_type": "stream",
     "text": [
      "Models disagreed on 238576/565892 examples.\n"
     ]
    }
   ],
   "source": [
    "new_predictions = models.ensemble(test_forest_predictions, test_knn_predictions, test_mlp_predictions)"
   ]
  },
  {
   "cell_type": "markdown",
   "metadata": {},
   "source": [
    "#### Generate Submission File"
   ]
  },
  {
   "cell_type": "code",
   "execution_count": 29,
   "metadata": {},
   "outputs": [],
   "source": [
    "result = pd.DataFrame.from_dict(dict(zip(test_df_id.to_list(),new_predictions)), orient='index', columns=[\"Cover_Type\"])\n",
    "result.to_csv(f\"submissions/cobsolidated_submission.csv\",index_label=\"Id\")"
   ]
  },
  {
   "cell_type": "markdown",
   "metadata": {},
   "source": [
    "### End matter\n",
    "\n",
    "#### Acknowledgements/Sources\n",
    "\n",
    "* That helpful stack overflow post\n",
    "  * https://stackoverflow.com/questions/28663856/how-to-count-the-occurrence-of-certain-item-in-an-ndarray\n",
    "* Relevant Documentation\n",
    "  * KNeighborsClassifier\n",
    "    * https://scikit-learn.org/stable/modules/generated/sklearn.neighbors.KNeighborsClassifier.html\n",
    "  * Pretty Confusion Matrix\n",
    "    * https://scikit-learn.org/stable/modules/generated/sklearn.metrics.plot_confusion_matrix.html\n",
    "  * Preprocessing\n",
    "    * https://scikit-learn.org/stable/modules/generated/sklearn.preprocessing.normalize.html\n",
    "* Soil information\n",
    "  * https://www.uidaho.edu/cals/soil-orders/aridisols\n",
    "  \n",
    "#### Backup Formats\n",
    "\n",
    "*because sometimes you just want to look at the markdown or whatever real quick*"
   ]
  },
  {
   "cell_type": "code",
   "execution_count": 30,
   "metadata": {},
   "outputs": [
    {
     "name": "stdout",
     "output_type": "stream",
     "text": [
      "[NbConvertApp] WARNING | Config option `kernel_spec_manager_class` not recognized by `NbConvertApp`.\n",
      "[NbConvertApp] Converting notebook clear_cut_solution.ipynb to python\n",
      "[NbConvertApp] Writing 19916 bytes to backups/clear_cut_solution.py\n",
      "[NbConvertApp] WARNING | Config option `kernel_spec_manager_class` not recognized by `NbConvertApp`.\n",
      "[NbConvertApp] Converting notebook clear_cut_solution.ipynb to markdown\n",
      "[NbConvertApp] Support files will be in backups/clear_cut_solution_files/\n",
      "[NbConvertApp] Making directory backups/clear_cut_solution_files/backups\n",
      "[NbConvertApp] Writing 24600 bytes to backups/clear_cut_solution.md\n",
      "[NbConvertApp] WARNING | Config option `kernel_spec_manager_class` not recognized by `NbConvertApp`.\n",
      "[NbConvertApp] Converting notebook clear_cut_solution.ipynb to html\n",
      "[NbConvertApp] Writing 399829 bytes to backups/clear_cut_solution.html\n"
     ]
    }
   ],
   "source": [
    "#Create a backup of the jupyter notebook in a format for where changes are easier to see.\n",
    "!jupyter nbconvert clear_cut_solution.ipynb --to=\"python\" --output=\"backups/clear_cut_solution\"\n",
    "!jupyter nbconvert clear_cut_solution.ipynb --to markdown --output=\"backups/clear_cut_solution\"\n",
    "\n",
    "# Also archiving this bad boy\n",
    "!jupyter nbconvert clear_cut_solution.ipynb --to html --output=\"backups/clear_cut_solution\""
   ]
  },
  {
   "cell_type": "code",
   "execution_count": null,
   "metadata": {},
   "outputs": [],
   "source": []
  }
 ],
 "metadata": {
  "environment": {
   "name": "tf-gpu.1-15.m58",
   "type": "gcloud",
   "uri": "gcr.io/deeplearning-platform-release/tf-gpu.1-15:m58"
  },
  "kernelspec": {
   "display_name": "Python 3",
   "language": "python",
   "name": "python3"
  },
  "language_info": {
   "codemirror_mode": {
    "name": "ipython",
    "version": 3
   },
   "file_extension": ".py",
   "mimetype": "text/x-python",
   "name": "python",
   "nbconvert_exporter": "python",
   "pygments_lexer": "ipython3",
   "version": "3.7.8"
  }
 },
 "nbformat": 4,
 "nbformat_minor": 4
}
